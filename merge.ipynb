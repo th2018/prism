{
 "cells": [
  {
   "cell_type": "code",
   "execution_count": 2,
   "id": "b0a8e71f",
   "metadata": {},
   "outputs": [],
   "source": [
    "import seaborn as sns\n",
    "import pandas as pd # the pd is by convention\n",
    "import earthpy as et"
   ]
  },
  {
   "cell_type": "code",
   "execution_count": 6,
   "id": "332d3bb7",
   "metadata": {},
   "outputs": [
    {
     "data": {
      "text/plain": [
       "GAGE_ID        int64\n",
       "ZONE_CODE      int64\n",
       "COUNT          int64\n",
       "AREA         float64\n",
       "MIN          float64\n",
       "MAX          float64\n",
       "RANGE        float64\n",
       "MEAN         float64\n",
       "STD          float64\n",
       "SUM          float64\n",
       "date_num       int64\n",
       "date          object\n",
       "dtype: object"
      ]
     },
     "execution_count": 6,
     "metadata": {},
     "output_type": "execute_result"
    }
   ],
   "source": [
    "frame_all_2015 = pd.read_csv(r'C:\\Users\\taohuang\\Downloads\\prism-main1229\\prism-main\\frame_all_2015.csv')\n",
    "frame_all_2015.head()\n",
    "\n",
    "frame_all_2015.dtypes\n"
   ]
  },
  {
   "cell_type": "code",
   "execution_count": null,
   "id": "04e4f560",
   "metadata": {},
   "outputs": [],
   "source": []
  }
 ],
 "metadata": {
  "kernelspec": {
   "display_name": "Python 3 (ipykernel)",
   "language": "python",
   "name": "python3"
  },
  "language_info": {
   "codemirror_mode": {
    "name": "ipython",
    "version": 3
   },
   "file_extension": ".py",
   "mimetype": "text/x-python",
   "name": "python",
   "nbconvert_exporter": "python",
   "pygments_lexer": "ipython3",
   "version": "3.8.12"
  }
 },
 "nbformat": 4,
 "nbformat_minor": 5
}
