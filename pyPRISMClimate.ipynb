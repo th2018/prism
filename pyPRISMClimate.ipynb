{
 "cells": [
  {
   "cell_type": "code",
   "execution_count": 1,
   "metadata": {},
   "outputs": [],
   "source": [
    "import os\n",
    "from pyPRISMClimate import get_prism_monthlys, get_prism_monthly_single,get_prism_dailys, get_prism_daily_single,get_prism_normals"
   ]
  },
  {
   "cell_type": "code",
   "execution_count": 6,
   "metadata": {},
   "outputs": [
    {
     "data": {
      "text/plain": [
       "'C:\\\\Users\\\\taohuang\\\\Downloads\\\\prism-main'"
      ]
     },
     "execution_count": 6,
     "metadata": {},
     "output_type": "execute_result"
    }
   ],
   "source": [
    "os.getcwd()"
   ]
  },
  {
   "cell_type": "code",
   "execution_count": 11,
   "metadata": {},
   "outputs": [
    {
     "name": "stdout",
     "output_type": "stream",
     "text": [
      "C:\\Users\\taohuang\\Downloads\\prism-main\\20100801\n",
      "C:\\Users\\taohuang\\Downloads\\prism-main\\20110801\n",
      "C:\\Users\\taohuang\\Downloads\\prism-main\\20120801\n",
      "C:\\Users\\taohuang\\Downloads\\prism-main\\20130801\n",
      "C:\\Users\\taohuang\\Downloads\\prism-main\\20140801\n",
      "C:\\Users\\taohuang\\Downloads\\prism-main\\20150801\n",
      "C:\\Users\\taohuang\\Downloads\\prism-main\\20160801\n",
      "C:\\Users\\taohuang\\Downloads\\prism-main\\20170801\n",
      "C:\\Users\\taohuang\\Downloads\\prism-main\\20180801\n",
      "C:\\Users\\taohuang\\Downloads\\prism-main\\20190801\n",
      "C:\\Users\\taohuang\\Downloads\\prism-main\\20200801\n",
      "C:\\Users\\taohuang\\Downloads\\prism-main\\20210801\n"
     ]
    }
   ],
   "source": [
    "for yr in range(2010,2021+1):\n",
    "    print( 'C:\\\\Users\\\\taohuang\\\\Downloads\\\\prism-main\\\\'+str(yr)+\"0801\" )\n",
    "    #    os.makedirs(str(yr)) \n",
    "    #get_prism_dailys('tmax',min_date='2021-08-01', max_date='2021-08-31', dest_path=r'C:\\Users\\taohuang\\Downloads\\prism-main')  "
   ]
  },
  {
   "cell_type": "code",
   "execution_count": 4,
   "metadata": {},
   "outputs": [],
   "source": [
    "# Get monthly mean temperature\n",
    "get_prism_monthlys(variable='tmean', years=[2020,2021], months=[7,8,9], dest_path='/Users/owner/Downloads')"
   ]
  },
  {
   "cell_type": "code",
   "execution_count": 4,
   "metadata": {},
   "outputs": [],
   "source": [
    "# Get daily maximum temperature for Aug 1, 2021 to Aug 31, 2021\n",
    "get_prism_dailys('tmax',min_date='2021-08-01', max_date='2021-08-31', dest_path=r'C:\\Users\\taohuang\\Downloads\\prism-main')"
   ]
  },
  {
   "cell_type": "code",
   "execution_count": null,
   "metadata": {},
   "outputs": [],
   "source": []
  }
 ],
 "metadata": {
  "kernelspec": {
   "display_name": "Python 3 (ipykernel)",
   "language": "python",
   "name": "python3"
  },
  "language_info": {
   "codemirror_mode": {
    "name": "ipython",
    "version": 3
   },
   "file_extension": ".py",
   "mimetype": "text/x-python",
   "name": "python",
   "nbconvert_exporter": "python",
   "pygments_lexer": "ipython3",
   "version": "3.8.12"
  }
 },
 "nbformat": 4,
 "nbformat_minor": 2
}
