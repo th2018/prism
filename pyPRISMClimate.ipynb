{
 "cells": [
  {
   "cell_type": "code",
   "execution_count": 2,
   "metadata": {},
   "outputs": [],
   "source": [
    "import os\n",
    "from pyPRISMClimate import get_prism_monthlys, get_prism_monthly_single,get_prism_dailys, get_prism_daily_single,get_prism_normals"
   ]
  },
  {
   "cell_type": "code",
   "execution_count": 4,
   "metadata": {},
   "outputs": [],
   "source": [
    "# Get monthly mean temperature\n",
    "get_prism_monthlys(variable='tmean', years=[2020,2021], months=[7,8,9], dest_path='/Users/owner/Downloads')"
   ]
  },
  {
   "cell_type": "code",
   "execution_count": 4,
   "metadata": {},
   "outputs": [],
   "source": [
    "# Get daily maximum temperature for Aug 1, 2021 to Aug 31, 2021\n",
    "get_prism_dailys('tmax',min_date='2021-08-01', max_date='2021-08-31', dest_path=r'C:\\Users\\taohuang\\Downloads\\prism-main')"
   ]
  },
  {
   "cell_type": "code",
   "execution_count": null,
   "metadata": {},
   "outputs": [],
   "source": []
  }
 ],
 "metadata": {
  "kernelspec": {
   "display_name": "Python 3 (ipykernel)",
   "language": "python",
   "name": "python3"
  },
  "language_info": {
   "codemirror_mode": {
    "name": "ipython",
    "version": 3
   },
   "file_extension": ".py",
   "mimetype": "text/x-python",
   "name": "python",
   "nbconvert_exporter": "python",
   "pygments_lexer": "ipython3",
   "version": "3.8.12"
  }
 },
 "nbformat": 4,
 "nbformat_minor": 2
}
