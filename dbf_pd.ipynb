{
 "cells": [
  {
   "cell_type": "markdown",
   "id": "5898649f",
   "metadata": {},
   "source": [
    "1. read dbf\n",
    "2. get date from the file name\n",
    "3. add a column and add the date to it\n"
   ]
  },
  {
   "cell_type": "code",
   "execution_count": 1,
   "id": "76c64742",
   "metadata": {},
   "outputs": [],
   "source": [
    "from dbfread import DBF\n",
    "from pandas import DataFrame"
   ]
  },
  {
   "cell_type": "code",
   "execution_count": 2,
   "id": "7083ede4",
   "metadata": {},
   "outputs": [
    {
     "name": "stdout",
     "output_type": "stream",
     "text": [
      "       GAGE_ID  ZONE_CODE  COUNT      AREA        MIN        MAX      RANGE  \\\n",
      "0     05014000          1      1  0.001736  18.941799  18.941799   0.000000   \n",
      "1     05014500          2      5  0.008681  17.667500  21.418200   3.750700   \n",
      "2     05017500          3     44  0.076389  16.743299  22.178799   5.435499   \n",
      "3     06006000          4      7  0.012153  19.867399  23.690100   3.822701   \n",
      "4     06012500          5     90  0.156250  19.816000  24.766499   4.950499   \n",
      "...        ...        ...    ...       ...        ...        ...        ...   \n",
      "1534  14375100       1535     13  0.022569  26.792999  32.178497   5.385498   \n",
      "1535  14375500       1536      7  0.012153  29.799299  32.455799   2.656500   \n",
      "1536  14377100       1537     40  0.069444  27.258499  34.431801   7.173302   \n",
      "1537  14378200       1538    103  0.178819  24.307600  34.351799  10.044199   \n",
      "1538  11200800       1539     13  0.022569  26.764200  38.167801  11.403601   \n",
      "\n",
      "           MEAN       STD          SUM  \n",
      "0     18.941799  0.000000    18.941799  \n",
      "1     19.179940  1.398554    95.899698  \n",
      "2     19.745895  1.512489   868.819382  \n",
      "3     22.222985  1.159166   155.560898  \n",
      "4     23.030173  1.207957  2072.715551  \n",
      "...         ...       ...          ...  \n",
      "1534  29.431184  1.526524   382.605391  \n",
      "1535  31.112828  0.873603   217.789793  \n",
      "1536  31.925824  2.255091  1277.032970  \n",
      "1537  30.655799  2.181106  3157.547319  \n",
      "1538  33.459054  3.377881   434.967697  \n",
      "\n",
      "[1539 rows x 10 columns]\n"
     ]
    }
   ],
   "source": [
    "dbf = DBF(r'C:\\Users\\taohuang\\Downloads\\prism-main\\PRISM_tmax_stable_4kmD2_20210830.dbf')\n",
    "frame = DataFrame(iter(dbf))\n",
    "print(frame)"
   ]
  },
  {
   "cell_type": "code",
   "execution_count": 4,
   "id": "8b432b48",
   "metadata": {},
   "outputs": [
    {
     "data": {
      "text/plain": [
       "dbfread.dbf.DBF"
      ]
     },
     "execution_count": 4,
     "metadata": {},
     "output_type": "execute_result"
    }
   ],
   "source": [
    "type(frame)\n",
    "type(dbf)"
   ]
  },
  {
   "cell_type": "code",
   "execution_count": 7,
   "id": "837243da",
   "metadata": {},
   "outputs": [
    {
     "name": "stdout",
     "output_type": "stream",
     "text": [
      "       GAGE_ID  ZONE_CODE  COUNT      AREA        MIN        MAX      RANGE  \\\n",
      "0     05014000          1      1  0.001736  18.941799  18.941799   0.000000   \n",
      "1     05014500          2      5  0.008681  17.667500  21.418200   3.750700   \n",
      "2     05017500          3     44  0.076389  16.743299  22.178799   5.435499   \n",
      "3     06006000          4      7  0.012153  19.867399  23.690100   3.822701   \n",
      "4     06012500          5     90  0.156250  19.816000  24.766499   4.950499   \n",
      "...        ...        ...    ...       ...        ...        ...        ...   \n",
      "1534  14375100       1535     13  0.022569  26.792999  32.178497   5.385498   \n",
      "1535  14375500       1536      7  0.012153  29.799299  32.455799   2.656500   \n",
      "1536  14377100       1537     40  0.069444  27.258499  34.431801   7.173302   \n",
      "1537  14378200       1538    103  0.178819  24.307600  34.351799  10.044199   \n",
      "1538  11200800       1539     13  0.022569  26.764200  38.167801  11.403601   \n",
      "\n",
      "           MEAN       STD          SUM      date  \n",
      "0     18.941799  0.000000    18.941799  20210829  \n",
      "1     19.179940  1.398554    95.899698  20210829  \n",
      "2     19.745895  1.512489   868.819382  20210829  \n",
      "3     22.222985  1.159166   155.560898  20210829  \n",
      "4     23.030173  1.207957  2072.715551  20210829  \n",
      "...         ...       ...          ...       ...  \n",
      "1534  29.431184  1.526524   382.605391  20210829  \n",
      "1535  31.112828  0.873603   217.789793  20210829  \n",
      "1536  31.925824  2.255091  1277.032970  20210829  \n",
      "1537  30.655799  2.181106  3157.547319  20210829  \n",
      "1538  33.459054  3.377881   434.967697  20210829  \n",
      "\n",
      "[1539 rows x 11 columns]\n"
     ]
    }
   ],
   "source": [
    "for day in range(20210829,20210830):\n",
    "    dbf = DBF(r\"C:\\Users\\taohuang\\Downloads\\prism-main\\PRISM_tmax_stable_4kmD2_\"+str(20210830)+\".dbf\")\n",
    "    frame = DataFrame(iter(dbf))\n",
    "    frame['date']=day\n",
    "    print(frame)"
   ]
  }
 ],
 "metadata": {
  "kernelspec": {
   "display_name": "Python 3 (ipykernel)",
   "language": "python",
   "name": "python3"
  },
  "language_info": {
   "codemirror_mode": {
    "name": "ipython",
    "version": 3
   },
   "file_extension": ".py",
   "mimetype": "text/x-python",
   "name": "python",
   "nbconvert_exporter": "python",
   "pygments_lexer": "ipython3",
   "version": "3.8.12"
  }
 },
 "nbformat": 4,
 "nbformat_minor": 5
}
