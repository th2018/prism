{
 "cells": [
  {
   "cell_type": "markdown",
   "id": "9e01e79e",
   "metadata": {},
   "source": [
    "Load packages"
   ]
  },
  {
   "cell_type": "code",
   "execution_count": 1,
   "id": "d964a28a",
   "metadata": {},
   "outputs": [],
   "source": [
    "from dbfread import DBF\n",
    "import pandas as pd\n",
    "from pandas import DataFrame\n",
    "from itertools import chain"
   ]
  },
  {
   "cell_type": "code",
   "execution_count": 11,
   "id": "31779410",
   "metadata": {},
   "outputs": [
    {
     "data": {
      "text/html": [
       "<div>\n",
       "<style scoped>\n",
       "    .dataframe tbody tr th:only-of-type {\n",
       "        vertical-align: middle;\n",
       "    }\n",
       "\n",
       "    .dataframe tbody tr th {\n",
       "        vertical-align: top;\n",
       "    }\n",
       "\n",
       "    .dataframe thead th {\n",
       "        text-align: right;\n",
       "    }\n",
       "</style>\n",
       "<table border=\"1\" class=\"dataframe\">\n",
       "  <thead>\n",
       "    <tr style=\"text-align: right;\">\n",
       "      <th></th>\n",
       "      <th>Name</th>\n",
       "      <th>ZONE_CODE</th>\n",
       "      <th>COUNT</th>\n",
       "      <th>AREA</th>\n",
       "      <th>MIN</th>\n",
       "      <th>MAX</th>\n",
       "      <th>RANGE</th>\n",
       "      <th>MEAN</th>\n",
       "      <th>STD</th>\n",
       "      <th>SUM</th>\n",
       "      <th>date_num</th>\n",
       "    </tr>\n",
       "  </thead>\n",
       "  <tbody>\n",
       "    <tr>\n",
       "      <th>0</th>\n",
       "      <td>ID20230117235328391000</td>\n",
       "      <td>1</td>\n",
       "      <td>5</td>\n",
       "      <td>0.008681</td>\n",
       "      <td>20.687</td>\n",
       "      <td>22.5</td>\n",
       "      <td>1.813</td>\n",
       "      <td>21.656</td>\n",
       "      <td>0.722056</td>\n",
       "      <td>108.279999</td>\n",
       "      <td>20140701</td>\n",
       "    </tr>\n",
       "  </tbody>\n",
       "</table>\n",
       "</div>"
      ],
      "text/plain": [
       "                     Name  ZONE_CODE  COUNT      AREA     MIN   MAX  RANGE  \\\n",
       "0  ID20230117235328391000          1      5  0.008681  20.687  22.5  1.813   \n",
       "\n",
       "     MEAN       STD         SUM  date_num  \n",
       "0  21.656  0.722056  108.279999  20140701  "
      ]
     },
     "execution_count": 11,
     "metadata": {},
     "output_type": "execute_result"
    }
   ],
   "source": [
    "# create a df for the first day\n",
    "day=20140701\n",
    "yr=2014\n",
    "#dbf = DBF(r\"C:\\Users\\taohuang\\Documents\\Tao\\Data\\Extract_PRISM\\output_tmax_dbf\\PRISM_vpdmax_stable_4kmD2_\"+str(day)+\".dbf\")\n",
    "dbf = DBF(r\"C:\\Users\\taohuang\\Documents\\Tao\\Data\\Extract_PRISM\\output_tmax_dbf\\PRISM_tmax_stable_4kmD2_\"+str(day)+\".dbf\")\n",
    "frame = DataFrame(iter(dbf))\n",
    "frame['date_num']=day\n",
    "frame_all=frame\n",
    "frame_all\n",
    "# \tID20230117235328391000==USGS 13311450 "
   ]
  },
  {
   "cell_type": "code",
   "execution_count": 12,
   "id": "408154c0",
   "metadata": {},
   "outputs": [
    {
     "name": "stdout",
     "output_type": "stream",
     "text": [
      "20140829                       Name  ZONE_CODE  COUNT      AREA        MIN        MAX  \\\n",
      "0   ID20230117235328391000          1      5  0.008681  20.687000  22.500000   \n",
      "0   ID20230117235328391000          1      5  0.008681  16.299000  18.750999   \n",
      "0   ID20230117235328391000          1      5  0.008681  16.051001  18.379999   \n",
      "0   ID20230117235328391000          1      5  0.008681  19.476000  21.771999   \n",
      "0   ID20230117235328391000          1      5  0.008681  17.243999  19.480000   \n",
      "..                     ...        ...    ...       ...        ...        ...   \n",
      "0   ID20230117235328391000          1      5  0.008681  14.656000  16.667000   \n",
      "0   ID20230117235328391000          1      5  0.008681  14.810000  17.195000   \n",
      "0   ID20230117235328391000          1      5  0.008681  19.254000  21.473000   \n",
      "0   ID20230117235328391000          1      5  0.008681  21.704000  23.861000   \n",
      "0   ID20230117235328391000          1      5  0.008681  22.459999  24.900999   \n",
      "\n",
      "       RANGE       MEAN       STD         SUM  date_num       date  \n",
      "0   1.813000  21.656000  0.722056  108.279999  20140701 2014-07-01  \n",
      "0   2.452000  17.556000  1.036146   87.779999  20140601 2014-06-01  \n",
      "0   2.328999  17.256000  0.966355   86.280001  20140602 2014-06-02  \n",
      "0   2.296000  20.635000  0.978074  103.174999  20140603 2014-06-03  \n",
      "0   2.236000  18.368000  0.924030   91.839998  20140604 2014-06-04  \n",
      "..       ...        ...       ...         ...       ...        ...  \n",
      "0   2.011000  15.787800  0.753765   78.939001  20140825 2014-08-25  \n",
      "0   2.384999  16.181400  0.826923   80.907000  20140826 2014-08-26  \n",
      "0   2.219000  20.493000  0.793853  102.464998  20140827 2014-08-27  \n",
      "0   2.157000  22.937801  0.760476  114.689003  20140828 2014-08-28  \n",
      "0   2.441000  23.818600  0.885573  119.092999  20140829 2014-08-29  \n",
      "\n",
      "[91 rows x 12 columns]\n",
      "count                      91\n",
      "unique                     90\n",
      "top       2014-07-01 00:00:00\n",
      "freq                        2\n",
      "first     2014-06-01 00:00:00\n",
      "last      2014-08-29 00:00:00\n",
      "Name: date, dtype: object\n"
     ]
    },
    {
     "name": "stderr",
     "output_type": "stream",
     "text": [
      "C:\\Users\\taohuang\\AppData\\Local\\Temp/ipykernel_33352/2769073176.py:16: FutureWarning: Treating datetime data as categorical rather than numeric in `.describe` is deprecated and will be removed in a future version of pandas. Specify `datetime_is_numeric=True` to silence this warning and adopt the future behavior now.\n",
      "  print(frame_all['date'].describe())\n"
     ]
    }
   ],
   "source": [
    "res = chain(range(yr*10000+601, yr*10000+ 630+1),\n",
    "            range(yr*10000+701, yr*10000+ 731+1),\n",
    "            range( yr*10000+ 801, yr*10000+ 829+1) )\n",
    "\n",
    "for day in res:\n",
    "#    dbf = DBF(r\"C:\\Users\\taohuang\\Downloads\\prism-main20221226\\prism-main\\output\\PRISM_vpdmax_stable_4kmD2_\"+str(day)+\".dbf\")\n",
    "    dbf = DBF(r\"C:\\Users\\taohuang\\Documents\\Tao\\Data\\Extract_PRISM\\output_tmax_dbf\\PRISM_tmax_stable_4kmD2_\"+str(day)+\".dbf\")\n",
    "    \n",
    "    frame = DataFrame(iter(dbf))\n",
    "    frame['date_num']=day\n",
    "    frame_all=frame_all.append(frame)\n",
    "    \n",
    "frame_all['date'] = pd.to_datetime(frame_all['date_num'], format='%Y%m%d')\n",
    "    \n",
    "print(day,frame_all)\n",
    "print(frame_all['date'].describe())"
   ]
  },
  {
   "cell_type": "code",
   "execution_count": 13,
   "id": "e206b395",
   "metadata": {},
   "outputs": [],
   "source": [
    "#frame_all['GAGE_ID']=frame_all['GAGE_ID'].astype('str')\n",
    "\n",
    "#savd pd pf\n",
    "frame_all.to_csv('frame_all_USGS13311450_2014.csv', index=False)"
   ]
  },
  {
   "cell_type": "code",
   "execution_count": null,
   "id": "cdbc5d14",
   "metadata": {},
   "outputs": [],
   "source": []
  }
 ],
 "metadata": {
  "kernelspec": {
   "display_name": "Python 3 (ipykernel)",
   "language": "python",
   "name": "python3"
  },
  "language_info": {
   "codemirror_mode": {
    "name": "ipython",
    "version": 3
   },
   "file_extension": ".py",
   "mimetype": "text/x-python",
   "name": "python",
   "nbconvert_exporter": "python",
   "pygments_lexer": "ipython3",
   "version": "3.8.12"
  }
 },
 "nbformat": 4,
 "nbformat_minor": 5
}
